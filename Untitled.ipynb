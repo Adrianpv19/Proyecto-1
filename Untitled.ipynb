{
 "cells": [
  {
   "cell_type": "markdown",
   "metadata": {},
   "source": [
    "$$Proyecto$$"
   ]
  },
  {
   "cell_type": "markdown",
   "metadata": {},
   "source": [
    "#### Adrian Padilla\n",
    "#### Victor Vidal\n",
    "\n",
    "![WhatsApp%20Image%202020-09-05%20at%207.18.46%20PM%20%282%29.jpeg](attachment:WhatsApp%20Image%202020-09-05%20at%207.18.46%20PM%20%282%29.jpeg)"
   ]
  },
  {
   "cell_type": "markdown",
   "metadata": {},
   "source": [
    "Sabemos por conocimientos generales que el soporte en el punto A genera 2 fuerzas, una vertical y otra horizontal, a las cuales llamaremos Ax y Ay respectivamente tal como se muestra en la imagen.\n",
    "\n",
    "![2020-09-27%20%282%29.png](attachment:2020-09-27%20%282%29.png)"
   ]
  },
  {
   "cell_type": "markdown",
   "metadata": {},
   "source": [
    "Si sabemos que $F_1=2F_2$ calcularemos los momentos en A tomando en cuenta que la distancia es igual a $dcos(30º)$ donde d equivale a la distancia donde se encuentran las fuerzas aplicadas a lo largo del pasador.\n",
    "\n",
    "Por lo tanto:\n",
    "$M_A$ = 0\n",
    "\n",
    "$-2F_2(1.5Cos(30º))-F_2(2.5Cos(30))+ \\frac{4}{5}(1500)(2.5 sin (30°))+\\frac{3}{5}(1500)(2.5 cos (30°))\n",
    "=0$\n",
    "\n",
    "Despues haremos la suma de fuerzas en el eje x y lo mismo en el eje y.\n",
    "\n",
    "$F_x = 0$\n",
    "\n",
    "$A_x-\\frac{4}{5}1500=0$\n",
    "\n",
    "&F_y=0$\n",
    "\n",
    "$A_y-F_2+\\frac{3}{5}1500=0$"
   ]
  },
  {
   "cell_type": "markdown",
   "metadata": {},
   "source": [
    "por lo tanto representaremos a $F_2$ como $X_1$, a $A_x$ como $x_2$ y a $A_y$ como $x_3$\n",
    "\n",
    "nos quedaria simplificado\n",
    "\n",
    "$−5.5x_1cos(30)=-3000sin(30)-2250cos(30)$\n",
    "\n",
    "$x_2=\\frac{4}{5}1500$\n",
    "\n",
    "$-x_1+x_3=-\\frac{3}{5}1500$"
   ]
  },
  {
   "cell_type": "code",
   "execution_count": 1,
   "metadata": {},
   "outputs": [],
   "source": [
    "import numpy as np"
   ]
  },
  {
   "cell_type": "code",
   "execution_count": 2,
   "metadata": {},
   "outputs": [],
   "source": [
    "import sympy as sym\n",
    "import numpy as np\n",
    "import matplotlib.pyplot as plt\n",
    "sym.var(\"F2\",real=True)\n",
    "import scipy.optimize as opt"
   ]
  },
  {
   "cell_type": "code",
   "execution_count": 3,
   "metadata": {},
   "outputs": [],
   "source": [
    "c=np.array([1,1,1])\n",
    "A=np.array([-5.5*np.cos(30*180/np.pi)])\n",
    "Ae=np.array([0,1,0],)\n",
    "Aq=np.array([1,0,1])\n",
    "b=np.array([(3000*np.sin(30*180/np.pi))+(2250*np.cos(30*180/np.pi))])\n",
    "be=np.array([4/5*np.cos(30*180/np.pi)])\n",
    "bq=np.array([3/5*1500])"
   ]
  },
  {
   "cell_type": "code",
   "execution_count": 4,
   "metadata": {},
   "outputs": [
    {
     "ename": "AttributeError",
     "evalue": "'numpy.ndarray' object has no attribute 'lower'",
     "output_type": "error",
     "traceback": [
      "\u001b[1;31m---------------------------------------------------------------------------\u001b[0m",
      "\u001b[1;31mAttributeError\u001b[0m                            Traceback (most recent call last)",
      "\u001b[1;32m<ipython-input-4-79d45d345d24>\u001b[0m in \u001b[0;36m<module>\u001b[1;34m\u001b[0m\n\u001b[1;32m----> 1\u001b[1;33m \u001b[0msol\u001b[0m\u001b[1;33m=\u001b[0m\u001b[0mopt\u001b[0m\u001b[1;33m.\u001b[0m\u001b[0mlinprog\u001b[0m\u001b[1;33m(\u001b[0m\u001b[0mc\u001b[0m\u001b[1;33m,\u001b[0m\u001b[0mA\u001b[0m\u001b[1;33m,\u001b[0m\u001b[0mb\u001b[0m\u001b[1;33m,\u001b[0m\u001b[0mAe\u001b[0m\u001b[1;33m,\u001b[0m\u001b[0mbe\u001b[0m\u001b[1;33m,\u001b[0m\u001b[0mAq\u001b[0m\u001b[1;33m,\u001b[0m\u001b[0mbq\u001b[0m\u001b[1;33m)\u001b[0m\u001b[1;33m\u001b[0m\u001b[1;33m\u001b[0m\u001b[0m\n\u001b[0m\u001b[0;32m      2\u001b[0m \u001b[0msol\u001b[0m\u001b[1;33m\u001b[0m\u001b[1;33m\u001b[0m\u001b[0m\n",
      "\u001b[1;32m~\\Anaconda\\lib\\site-packages\\scipy\\optimize\\_linprog.py\u001b[0m in \u001b[0;36mlinprog\u001b[1;34m(c, A_ub, b_ub, A_eq, b_eq, bounds, method, callback, options, x0)\u001b[0m\n\u001b[0;32m    506\u001b[0m \u001b[1;33m\u001b[0m\u001b[0m\n\u001b[0;32m    507\u001b[0m     \"\"\"\n\u001b[1;32m--> 508\u001b[1;33m     \u001b[0mmeth\u001b[0m \u001b[1;33m=\u001b[0m \u001b[0mmethod\u001b[0m\u001b[1;33m.\u001b[0m\u001b[0mlower\u001b[0m\u001b[1;33m(\u001b[0m\u001b[1;33m)\u001b[0m\u001b[1;33m\u001b[0m\u001b[1;33m\u001b[0m\u001b[0m\n\u001b[0m\u001b[0;32m    509\u001b[0m \u001b[1;33m\u001b[0m\u001b[0m\n\u001b[0;32m    510\u001b[0m     \u001b[1;32mif\u001b[0m \u001b[0mx0\u001b[0m \u001b[1;32mis\u001b[0m \u001b[1;32mnot\u001b[0m \u001b[1;32mNone\u001b[0m \u001b[1;32mand\u001b[0m \u001b[0mmeth\u001b[0m \u001b[1;33m!=\u001b[0m \u001b[1;34m\"revised simplex\"\u001b[0m\u001b[1;33m:\u001b[0m\u001b[1;33m\u001b[0m\u001b[1;33m\u001b[0m\u001b[0m\n",
      "\u001b[1;31mAttributeError\u001b[0m: 'numpy.ndarray' object has no attribute 'lower'"
     ]
    }
   ],
   "source": [
    "sol=opt.linprog(c,A,b,Ae,be,Aq,bq)\n",
    "sol"
   ]
  },
  {
   "cell_type": "code",
   "execution_count": null,
   "metadata": {},
   "outputs": [],
   "source": []
  }
 ],
 "metadata": {
  "kernelspec": {
   "display_name": "Python 3",
   "language": "python",
   "name": "python3"
  },
  "language_info": {
   "codemirror_mode": {
    "name": "ipython",
    "version": 3
   },
   "file_extension": ".py",
   "mimetype": "text/x-python",
   "name": "python",
   "nbconvert_exporter": "python",
   "pygments_lexer": "ipython3",
   "version": "3.8.3"
  }
 },
 "nbformat": 4,
 "nbformat_minor": 4
}
